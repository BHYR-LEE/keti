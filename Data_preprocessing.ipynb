{
 "cells": [
  {
   "cell_type": "code",
   "execution_count": 1,
   "id": "4a8cdb41",
   "metadata": {},
   "outputs": [],
   "source": [
    "%matplotlib inline\n",
    "import pandas as pd\n",
    "import numpy as np\n",
    "import os\n",
    "import glob\n",
    "from matplotlib import pyplot as plt\n",
    "from tqdm import tqdm"
   ]
  },
  {
   "cell_type": "code",
   "execution_count": 2,
   "id": "7269ad35",
   "metadata": {
    "scrolled": true
   },
   "outputs": [
    {
     "name": "stderr",
     "output_type": "stream",
     "text": [
      "100%|██████████| 894/894 [00:01<00:00, 866.32it/s]\n"
     ]
    }
   ],
   "source": [
    "emg_data_list = glob.glob('data/test/*/gyro/*')\n",
    "length = np.array([],dtype=np.int32)\n",
    "for e in tqdm(emg_data_list):\n",
    "    length = np.append(length,(len(pd.read_csv(e))))\n"
   ]
  },
  {
   "cell_type": "code",
   "execution_count": 3,
   "id": "482da6ff",
   "metadata": {},
   "outputs": [],
   "source": [
    "length.sort()"
   ]
  },
  {
   "cell_type": "code",
   "execution_count": 4,
   "id": "494cb690",
   "metadata": {},
   "outputs": [
    {
     "data": {
      "text/plain": [
       "array([757, 779, 790, 796, 798, 798, 803, 838, 848, 854])"
      ]
     },
     "execution_count": 4,
     "metadata": {},
     "output_type": "execute_result"
    }
   ],
   "source": [
    "length[-10:]"
   ]
  },
  {
   "cell_type": "code",
   "execution_count": null,
   "id": "f24028f4",
   "metadata": {
    "scrolled": true
   },
   "outputs": [],
   "source": [
    "min(length)"
   ]
  },
  {
   "cell_type": "code",
   "execution_count": null,
   "id": "b33ee85b",
   "metadata": {
    "scrolled": true
   },
   "outputs": [],
   "source": [
    "plt.hist(length, bins=50,  range=(0,10000))"
   ]
  },
  {
   "cell_type": "code",
   "execution_count": null,
   "id": "f7290941",
   "metadata": {
    "scrolled": true
   },
   "outputs": [],
   "source": [
    "plt.hist(length, bins=50, range=(0,1000))"
   ]
  },
  {
   "cell_type": "code",
   "execution_count": null,
   "id": "cc24fa6f",
   "metadata": {},
   "outputs": [],
   "source": [
    "for file in emg_data_list:\n",
    "    int(file[file.rfind('A')+1:file.rfind('A')+4])"
   ]
  },
  {
   "cell_type": "code",
   "execution_count": null,
   "id": "6438d6b9",
   "metadata": {},
   "outputs": [],
   "source": [
    " = glob.glob('data/myo/*/*/*')\n",
    "\n",
    "no_use_action_label = [20, 30, 42, 44, 45, 48, 53]\n",
    "for file in emg_data_list:\n",
    "    try:\n",
    "        if int(file[file.rfind('A')+1:file.rfind('A')+4]) in no_use_action_label:\n",
    "            print('nouse',file)\n",
    "    except:\n",
    "        print(file)"
   ]
  },
  {
   "cell_type": "code",
   "execution_count": null,
   "id": "0697e835",
   "metadata": {},
   "outputs": [],
   "source": [
    "import pandas as pd\n",
    "import numpy as np\n",
    "import os\n",
    "import glob\n",
    "from matplotlib import pyplot as plt\n",
    "\n",
    "emg_data_list = glob.glob('data/real/*/emg/*')\n",
    "length=np.array([],dtype=np.int32)\n",
    "for e in emg_data_list:\n",
    "    length = np.append(length,(len(pd.read_csv(e))))\n",
    "\n",
    "for file in emg_data_list:\n",
    "    if file[-3:] is not 'csv':\n",
    "        print('이건아니죠')\n",
    "        print(file)"
   ]
  },
  {
   "cell_type": "code",
   "execution_count": null,
   "id": "66c68416",
   "metadata": {
    "scrolled": true
   },
   "outputs": [],
   "source": [
    "for file in data_list:\n",
    "    if file[-3:] == 'csv':\n",
    "        pass\n",
    "    else:\n",
    "        print(file)\n",
    "        print('h')"
   ]
  },
  {
   "cell_type": "code",
   "execution_count": null,
   "id": "bea2c3a8",
   "metadata": {},
   "outputs": [],
   "source": []
  }
 ],
 "metadata": {
  "kernelspec": {
   "display_name": "Python 3",
   "language": "python",
   "name": "python3"
  },
  "language_info": {
   "codemirror_mode": {
    "name": "ipython",
    "version": 3
   },
   "file_extension": ".py",
   "mimetype": "text/x-python",
   "name": "python",
   "nbconvert_exporter": "python",
   "pygments_lexer": "ipython3",
   "version": "3.7.4"
  }
 },
 "nbformat": 4,
 "nbformat_minor": 5
}
