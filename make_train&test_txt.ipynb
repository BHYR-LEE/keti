{
 "cells": [
  {
   "cell_type": "code",
   "execution_count": 12,
   "id": "8e8b2f61",
   "metadata": {},
   "outputs": [],
   "source": [
    "import pandas as pd\n",
    "import numpy as np\n",
    "import os\n",
    "import glob\n",
    "from tqdm import tqdm"
   ]
  },
  {
   "cell_type": "code",
   "execution_count": 13,
   "id": "806675f7",
   "metadata": {},
   "outputs": [
    {
     "name": "stdout",
     "output_type": "stream",
     "text": [
      "emg length: 3610\n",
      "acc length: 3610\n",
      "gyr length: 3610\n"
     ]
    }
   ],
   "source": [
    "file_list = glob.glob('data/myo/*/*/*')\n",
    "emg_file_list = glob.glob('data/myo/*/emg/*')\n",
    "emg_file_list.sort()\n",
    "acc_file_list = glob.glob('data/myo/*/accel/*')\n",
    "acc_file_list.sort()\n",
    "gyr_file_list = glob.glob('data/myo/*/gyro/*')\n",
    "gyr_file_list.sort()  ## sort : in-place method\n",
    "print('emg length:',len(emg_file_list))\n",
    "print('acc length:',len(acc_file_list))\n",
    "print('gyr length:',len(gyr_file_list))\n",
    "\n",
    "paired_zip = zip(emg_file_list,acc_file_list,gyr_file_list)"
   ]
  },
  {
   "cell_type": "code",
   "execution_count": 14,
   "id": "73b29eff",
   "metadata": {},
   "outputs": [],
   "source": [
    "for emg,acc,gyro in paired_zip:\n",
    "    with open('train.txt','a') as f:\n",
    "        str_to_write = emg + ' ' + acc + ' ' + gyro + ' ' + str(int(emg[emg.rfind('A')+1:emg.rfind('A')+4])) +'\\n'\n",
    "        f.write(str_to_write)\n",
    "    "
   ]
  },
  {
   "cell_type": "code",
   "execution_count": null,
   "id": "321c0ea4",
   "metadata": {},
   "outputs": [],
   "source": []
  }
 ],
 "metadata": {
  "kernelspec": {
   "display_name": "Python 3",
   "language": "python",
   "name": "python3"
  },
  "language_info": {
   "codemirror_mode": {
    "name": "ipython",
    "version": 3
   },
   "file_extension": ".py",
   "mimetype": "text/x-python",
   "name": "python",
   "nbconvert_exporter": "python",
   "pygments_lexer": "ipython3",
   "version": "3.7.4"
  }
 },
 "nbformat": 4,
 "nbformat_minor": 5
}
