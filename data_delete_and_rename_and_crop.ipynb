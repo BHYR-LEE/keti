{
 "cells": [
  {
   "cell_type": "code",
   "execution_count": 1,
   "id": "5527bb40",
   "metadata": {},
   "outputs": [],
   "source": [
    "import pandas as pd\n",
    "import numpy as np\n",
    "import os\n",
    "import glob\n",
    "from tqdm import tqdm"
   ]
  },
  {
   "cell_type": "code",
   "execution_count": 2,
   "id": "ba3b7775",
   "metadata": {},
   "outputs": [],
   "source": [
    "file_list = glob.glob('data/myo/*/*/*')\n",
    "\n",
    "no_use_action_label = [20, 30, 42, 44, 45, 48, 53]\n",
    "for file in file_list:\n",
    "    try:\n",
    "        if int(file[file.rfind('A')+1:file.rfind('A')+4]) in no_use_action_label:\n",
    "            os.remove(file)\n",
    "    except:\n",
    "        os.remove(file)"
   ]
  },
  {
   "cell_type": "code",
   "execution_count": 3,
   "id": "4c0c9c4b",
   "metadata": {},
   "outputs": [],
   "source": [
    "file_list = glob.glob('data/myo/*/*/*')\n",
    "\n",
    "for file in file_list: # 옳바른 라벨로 파일명 바꾸어 주기\n",
    "    action_number = int(file[file.rfind('A')+1:file.rfind('A')+4])\n",
    "    if action_number == 21:\n",
    "        new_file = file[:file.rfind('A')+1] + '020' + file[file.rfind('A')+4:]\n",
    "        os.rename(file,new_file)\n",
    "    elif action_number == 22:\n",
    "        new_file = file[:file.rfind('A')+1] + '021' + file[file.rfind('A')+4:]\n",
    "        os.rename(file,new_file)\n",
    "    elif action_number == 23:\n",
    "        new_file = file[:file.rfind('A')+1] + '022' + file[file.rfind('A')+4:]\n",
    "        os.rename(file,new_file)\n",
    "    elif action_number == 24:\n",
    "        new_file = file[:file.rfind('A')+1] + '023' + file[file.rfind('A')+4:]\n",
    "        os.rename(file,new_file)\n",
    "    elif action_number == 25:\n",
    "        new_file = file[:file.rfind('A')+1] + '024' + file[file.rfind('A')+4:]\n",
    "        os.rename(file,new_file)\n",
    "    elif action_number == 26:\n",
    "        new_file = file[:file.rfind('A')+1] + '025' + file[file.rfind('A')+4:]\n",
    "        os.rename(file,new_file)\n",
    "    elif action_number == 27:\n",
    "        new_file = file[:file.rfind('A')+1] + '026' + file[file.rfind('A')+4:]\n",
    "        os.rename(file,new_file)\n",
    "    elif action_number == 28:\n",
    "        new_file = file[:file.rfind('A')+1] + '027' + file[file.rfind('A')+4:]\n",
    "        os.rename(file,new_file)\n",
    "    elif action_number == 29:\n",
    "        new_file = file[:file.rfind('A')+1] + '028' + file[file.rfind('A')+4:]\n",
    "        os.rename(file,new_file)\n",
    "    elif action_number == 31:\n",
    "        new_file = file[:file.rfind('A')+1] + '029' + file[file.rfind('A')+4:]\n",
    "        os.rename(file,new_file)\n",
    "    elif action_number == 32:\n",
    "        new_file = file[:file.rfind('A')+1] + '030' + file[file.rfind('A')+4:]\n",
    "        os.rename(file,new_file)\n",
    "    elif action_number == 33:\n",
    "        new_file = file[:file.rfind('A')+1] + '031' + file[file.rfind('A')+4:]\n",
    "        os.rename(file,new_file)\n",
    "    elif action_number == 34:\n",
    "        new_file = file[:file.rfind('A')+1] + '032' + file[file.rfind('A')+4:]\n",
    "        os.rename(file,new_file)\n",
    "    elif action_number == 35:\n",
    "        new_file = file[:file.rfind('A')+1] + '033' + file[file.rfind('A')+4:]\n",
    "        os.rename(file,new_file)\n",
    "    elif action_number == 36:\n",
    "        new_file = file[:file.rfind('A')+1] + '034' + file[file.rfind('A')+4:]\n",
    "        os.rename(file,new_file)\n",
    "    elif action_number == 37:\n",
    "        new_file = file[:file.rfind('A')+1] + '035' + file[file.rfind('A')+4:]\n",
    "        os.rename(file,new_file)\n",
    "    elif action_number == 38:\n",
    "        new_file = file[:file.rfind('A')+1] + '036' + file[file.rfind('A')+4:]\n",
    "        os.rename(file,new_file)\n",
    "    elif action_number == 39:\n",
    "        new_file = file[:file.rfind('A')+1] + '037' + file[file.rfind('A')+4:]\n",
    "        os.rename(file,new_file)\n",
    "    elif action_number == 40:\n",
    "        new_file = file[:file.rfind('A')+1] + '038' + file[file.rfind('A')+4:]\n",
    "        os.rename(file,new_file)\n",
    "    elif action_number == 41:\n",
    "        new_file = file[:file.rfind('A')+1] + '039' + file[file.rfind('A')+4:]\n",
    "        os.rename(file,new_file)\n",
    "    elif action_number == 43:\n",
    "        new_file = file[:file.rfind('A')+1] + '040' + file[file.rfind('A')+4:]\n",
    "        os.rename(file,new_file)\n",
    "    elif action_number == 46:\n",
    "        new_file = file[:file.rfind('A')+1] + '041' + file[file.rfind('A')+4:]\n",
    "        os.rename(file,new_file)\n",
    "    elif action_number == 47:\n",
    "        new_file = file[:file.rfind('A')+1] + '042' + file[file.rfind('A')+4:]\n",
    "        os.rename(file,new_file)\n",
    "    elif action_number == 49:\n",
    "        new_file = file[:file.rfind('A')+1] + '043' + file[file.rfind('A')+4:]\n",
    "        os.rename(file,new_file)\n",
    "    elif action_number == 50:\n",
    "        new_file = file[:file.rfind('A')+1] + '044' + file[file.rfind('A')+4:]\n",
    "        os.rename(file,new_file)\n",
    "    elif action_number == 51:\n",
    "        new_file = file[:file.rfind('A')+1] + '045' + file[file.rfind('A')+4:]\n",
    "        os.rename(file,new_file)\n",
    "    elif action_number == 52:\n",
    "        new_file = file[:file.rfind('A')+1] + '046' + file[file.rfind('A')+4:]\n",
    "        os.rename(file,new_file)\n",
    "    elif action_number == 54:\n",
    "        new_file = file[:file.rfind('A')+1] + '047' + file[file.rfind('A')+4:]\n",
    "        os.rename(file,new_file)\n",
    "    elif action_number == 55:\n",
    "        new_file = file[:file.rfind('A')+1] + '048' + file[file.rfind('A')+4:]\n",
    "        os.rename(file,new_file)"
   ]
  },
  {
   "cell_type": "code",
   "execution_count": 33,
   "id": "8f2d1cc9",
   "metadata": {
    "scrolled": true
   },
   "outputs": [
    {
     "name": "stdout",
     "output_type": "stream",
     "text": [
      "emg length: 4504\n",
      "acc length: 4504\n",
      "gyr length: 4504\n"
     ]
    }
   ],
   "source": [
    "\n",
    "file_list = glob.glob('data/myo/*/*/*')\n",
    "emg_file_list = glob.glob('data/myo/*/emg/*')\n",
    "emg_file_list.sort()\n",
    "acc_file_list = glob.glob('data/myo/*/accel/*')\n",
    "acc_file_list.sort()\n",
    "gyr_file_list = glob.glob('data/myo/*/gyro/*')\n",
    "gyr_file_list.sort()  ## sort : in-place method\n",
    "print('emg length:',len(emg_file_list))\n",
    "print('acc length:',len(acc_file_list))\n",
    "print('gyr length:',len(gyr_file_list))\n",
    "\n",
    "paired_zip = zip(emg_file_list,acc_file_list,gyr_file_list)"
   ]
  },
  {
   "cell_type": "code",
   "execution_count": 21,
   "id": "b7f6fccf",
   "metadata": {},
   "outputs": [],
   "source": [
    "for i in range(4724):\n",
    "    if not emg_file_list[i].split('/')[-1] == acc_file_list[i].split('/')[-1]:\n",
    "        print('file not matching')"
   ]
  },
  {
   "cell_type": "code",
   "execution_count": 25,
   "id": "04dfa06c",
   "metadata": {},
   "outputs": [],
   "source": [
    "minimum_length = 200\n",
    "maximum_length = 3500"
   ]
  },
  {
   "cell_type": "code",
   "execution_count": 30,
   "id": "1a0ab864",
   "metadata": {},
   "outputs": [],
   "source": [
    "for emg,acc,gyr in paired_zip:\n",
    "    if len(pd.read_csv(emg,header=None)) > maximum_length or len(pd.read_csv(emg,header=None)) < minimum_length:\n",
    "        os.remove(emg)\n",
    "        os.remove(acc)\n",
    "        os.remove(gyr)\n",
    "    \n",
    "    "
   ]
  },
  {
   "cell_type": "code",
   "execution_count": 32,
   "id": "be00425a",
   "metadata": {},
   "outputs": [
    {
     "name": "stdout",
     "output_type": "stream",
     "text": [
      "acc is also broken\n",
      "acc is also broken\n",
      "acc is also broken\n"
     ]
    }
   ],
   "source": [
    "for emg,acc,gyr in paired_zip:\n",
    "    if len(pd.read_csv(acc,header=None)) > maximum_length//4 or len(pd.read_csv(emg,header=None)) < minimum_length//4:\n",
    "        print('acc is also broken')\n",
    "        os.remove(emg)\n",
    "        os.remove(acc)\n",
    "        os.remove(gyr)\n",
    "    \n",
    "    "
   ]
  },
  {
   "cell_type": "code",
   "execution_count": 34,
   "id": "e581ce85",
   "metadata": {},
   "outputs": [],
   "source": [
    "for emg,acc,gyr in paired_zip:\n",
    "    if len(pd.read_csv(gyr,header=None)) > maximum_length//4 or len(pd.read_csv(emg,header=None)) < minimum_length//4:\n",
    "        print('gyr is also broken')\n",
    "        os.remove(emg)\n",
    "        os.remove(acc)\n",
    "        os.remove(gyr)\n",
    "    \n",
    "    "
   ]
  },
  {
   "cell_type": "code",
   "execution_count": null,
   "id": "3206b78c",
   "metadata": {},
   "outputs": [],
   "source": []
  }
 ],
 "metadata": {
  "kernelspec": {
   "display_name": "Python 3",
   "language": "python",
   "name": "python3"
  },
  "language_info": {
   "codemirror_mode": {
    "name": "ipython",
    "version": 3
   },
   "file_extension": ".py",
   "mimetype": "text/x-python",
   "name": "python",
   "nbconvert_exporter": "python",
   "pygments_lexer": "ipython3",
   "version": "3.7.4"
  }
 },
 "nbformat": 4,
 "nbformat_minor": 5
}
